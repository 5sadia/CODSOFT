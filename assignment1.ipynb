{
  "nbformat": 4,
  "nbformat_minor": 0,
  "metadata": {
    "colab": {
      "provenance": [],
      "authorship_tag": "ABX9TyOTkDNLJM1N+b3I4sgfJyOS",
      "include_colab_link": true
    },
    "kernelspec": {
      "name": "python3",
      "display_name": "Python 3"
    },
    "language_info": {
      "name": "python"
    }
  },
  "cells": [
    {
      "cell_type": "markdown",
      "metadata": {
        "id": "view-in-github",
        "colab_type": "text"
      },
      "source": [
        "<a href=\"https://colab.research.google.com/github/5sadia/CODSOFT/blob/main/assignment1.ipynb\" target=\"_parent\"><img src=\"https://colab.research.google.com/assets/colab-badge.svg\" alt=\"Open In Colab\"/></a>"
      ]
    },
    {
      "cell_type": "code",
      "execution_count": 1,
      "metadata": {
        "colab": {
          "base_uri": "https://localhost:8080/"
        },
        "id": "5E0u-slkTfxh",
        "outputId": "7e47a46b-cbc8-4ff9-9aa8-bba0155983d0"
      },
      "outputs": [
        {
          "output_type": "stream",
          "name": "stdout",
          "text": [
            "Enter the order of the square matrix (e.g., 3 for 3x3): 2\n",
            "Enter 4 elements (row-wise, separated by space):\n",
            "5 6 4 2\n",
            "\n",
            "Input Matrix:\n",
            "[[5 6]\n",
            " [4 2]]\n",
            "\n",
            "Sum of diagonal elements: 7\n"
          ]
        }
      ],
      "source": [
        "import numpy as np\n",
        "\n",
        "# Step 1: Ask user for matrix size\n",
        "n = int(input(\"Enter the order of the square matrix (e.g., 3 for 3x3): \"))\n",
        "\n",
        "# Step 2: Collect matrix values\n",
        "print(f\"Enter {n * n} elements (row-wise, separated by space):\")\n",
        "elements = list(map(int, input().split()))\n",
        "\n",
        "# Step 3: Reshape into square matrix\n",
        "matrix = np.array(elements).reshape(n, n)\n",
        "\n",
        "# Step 4: Display the matrix\n",
        "print(\"\\nInput Matrix:\")\n",
        "print(matrix)\n",
        "\n",
        "# Step 5: Calculate diagonal sum using loop\n",
        "diagonal_sum = 0\n",
        "for i in range(n):\n",
        "    diagonal_sum += matrix[i][i]\n",
        "\n",
        "# Step 6: Output the result\n",
        "print(\"\\nSum of diagonal elements:\", diagonal_sum)\n"
      ]
    }
  ]
}